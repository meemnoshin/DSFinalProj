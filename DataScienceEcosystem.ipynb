{
 "cells": [
  {
   "attachments": {},
   "cell_type": "markdown",
   "metadata": {},
   "source": [
    "<h1>Data Science Tools and Ecosystem</h1>"
   ]
  },
  {
   "attachments": {},
   "cell_type": "markdown",
   "metadata": {},
   "source": [
    "In this notebook, DataScience tools and ecosystem are summarized. "
   ]
  },
  {
   "attachments": {},
   "cell_type": "markdown",
   "metadata": {},
   "source": [
    "<p> Objectives: </p>\n",
    "<ul>\n",
    "<li> Popular languages of data science </li>\n",
    "<li> Commonly used libraries in data science </li>\n",
    "<li> Data science tools </li>\n",
    "<li> Evaluating arithmetic expressions using Python </li>\n",
    "</ul>\n"
   ]
  },
  {
   "attachments": {},
   "cell_type": "markdown",
   "metadata": {},
   "source": [
    "<p> Some of the popular languages that data scientists use are:</p>\n",
    "<ol>\n",
    "<li> Python </li>\n",
    "<li> R </li>\n",
    "<li> Java </li>\n",
    "</ol>\n"
   ]
  },
  {
   "attachments": {},
   "cell_type": "markdown",
   "metadata": {},
   "source": [
    "<p> Some of the commonly used libraries used by data scientists include: </p>\n",
    "<ol>\n",
    "<li> Pandas </li>\n",
    "<li> Numpy </li>\n",
    "<li> Scipy </li>\n",
    "<li> TensorFlow </li>"
   ]
  },
  {
   "attachments": {},
   "cell_type": "markdown",
   "metadata": {},
   "source": [
    "| Data Science Tools |\n",
    "| -------------------|\n",
    "| Jupyter Notebooks  |\n",
    "| Zeppelyn Notebooks |\n",
    "| R Studio           |\n"
   ]
  },
  {
   "attachments": {},
   "cell_type": "markdown",
   "metadata": {},
   "source": [
    "<h3> Below are a few examples of evaluating arithmetic expressions in Python: </h3>\n"
   ]
  },
  {
   "cell_type": "code",
   "execution_count": 11,
   "metadata": {},
   "outputs": [
    {
     "name": "stdout",
     "output_type": "stream",
     "text": [
      "17\n"
     ]
    }
   ],
   "source": [
    "#This is a simple arithmetic expression to multiply then add integers.\n",
    "a= 3\n",
    "b= 4\n",
    "c= 5\n",
    "print ((a*b)+c)\n"
   ]
  },
  {
   "cell_type": "code",
   "execution_count": 12,
   "metadata": {},
   "outputs": [
    {
     "name": "stdout",
     "output_type": "stream",
     "text": [
      "3.333 hours\n"
     ]
    }
   ],
   "source": [
    "#This will convert 200 minutes to hours by dividing by 60.\n",
    "a= 200\n",
    "b= 60\n",
    "print(round(a/b,3),\"hours\")"
   ]
  },
  {
   "attachments": {},
   "cell_type": "markdown",
   "metadata": {},
   "source": [
    "<h2> Author </h2>\n",
    "<p> Meem Noshin Nawal Khan </p>"
   ]
  }
 ],
 "metadata": {
  "kernelspec": {
   "display_name": "Python 3",
   "language": "python",
   "name": "python3"
  },
  "language_info": {
   "codemirror_mode": {
    "name": "ipython",
    "version": 3
   },
   "file_extension": ".py",
   "mimetype": "text/x-python",
   "name": "python",
   "nbconvert_exporter": "python",
   "pygments_lexer": "ipython3",
   "version": "3.11.2"
  },
  "orig_nbformat": 4
 },
 "nbformat": 4,
 "nbformat_minor": 2
}
